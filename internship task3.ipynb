{
 "cells": [
  {
   "cell_type": "code",
   "execution_count": 1,
   "id": "10c15251-e2ab-472b-aaf9-5465ac77638f",
   "metadata": {},
   "outputs": [],
   "source": [
    "#import required libraries\n",
    "import pandas as pd\n",
    "import numpy as np\n",
    "from sklearn.model_selection import train_test_split\n",
    "from sklearn.ensemble import RandomForestClassifier\n",
    "from sklearn.preprocessing import LabelEncoder\n",
    "from sklearn.metrics import accuracy_score"
   ]
  },
  {
   "cell_type": "code",
   "execution_count": 3,
   "id": "2e10f6d1-b897-4037-8dc8-6ea413aa7dab",
   "metadata": {},
   "outputs": [
    {
     "name": "stdout",
     "output_type": "stream",
     "text": [
      "   Fever  Cough  Fatigue  Headache  Sore_Throat  Shortness_of_Breath  \\\n",
      "0      1      1        1         0            1                    0   \n",
      "1      1      0        1         1            0                    0   \n",
      "2      0      1        1         0            1                    0   \n",
      "3      1      1        0         0            0                    1   \n",
      "4      0      1        1         1            0                    0   \n",
      "5      1      1        1         1            1                    0   \n",
      "6      1      1        0         0            0                    1   \n",
      "7      0      0        1         1            0                    0   \n",
      "8      1      0        1         0            1                    1   \n",
      "9      0      1        0         1            0                    0   \n",
      "\n",
      "   Chest_Pain        Disease  \n",
      "0           0            Flu  \n",
      "1           0       COVID-19  \n",
      "2           0    Common Cold  \n",
      "3           1      Pneumonia  \n",
      "4           0       Migraine  \n",
      "5           0         Dengue  \n",
      "6           0     Bronchitis  \n",
      "7           0         Anemia  \n",
      "8           1   Tuberculosis  \n",
      "9           1  Heart Disease  \n"
     ]
    }
   ],
   "source": [
    "df = pd.read_csv(\"D://health_data.csv\")\n",
    "print(df)"
   ]
  },
  {
   "cell_type": "code",
   "execution_count": 5,
   "id": "6e07edae-820f-4f59-a8b3-81a305a232ba",
   "metadata": {},
   "outputs": [
    {
     "name": "stdout",
     "output_type": "stream",
     "text": [
      "Model Accuracy: 0.00\n"
     ]
    }
   ],
   "source": [
    "# Encoding categorical disease labels\n",
    "label_encoder = LabelEncoder()\n",
    "df['Disease'] = label_encoder.fit_transform(df['Disease'])\n",
    "\n",
    "# Splitting features and target\n",
    "X = df.drop(columns=['Disease'])  # Symptoms as features\n",
    "y = df['Disease']  # Disease as target\n",
    "\n",
    "# Splitting dataset into training and testing sets\n",
    "X_train, X_test, y_train, y_test = train_test_split(X, y, test_size=0.2, random_state=42)\n",
    "\n",
    "# Train Random Forest Classifier\n",
    "model = RandomForestClassifier(n_estimators=100, random_state=42)\n",
    "model.fit(X_train, y_train)\n",
    "\n",
    "# Evaluate model accuracy\n",
    "y_pred = model.predict(X_test)\n",
    "accuracy = accuracy_score(y_test, y_pred)\n",
    "print(f'Model Accuracy: {accuracy:.2f}')"
   ]
  },
  {
   "cell_type": "code",
   "execution_count": 9,
   "id": "97877e98-ce96-4ecb-a5fa-0fe799022d91",
   "metadata": {},
   "outputs": [
    {
     "name": "stdout",
     "output_type": "stream",
     "text": [
      "Predicted Disease: Flu\n"
     ]
    },
    {
     "name": "stderr",
     "output_type": "stream",
     "text": [
      "D:\\Users\\MY LAP\\anaconda3\\Lib\\site-packages\\sklearn\\base.py:493: UserWarning: X does not have valid feature names, but RandomForestClassifier was fitted with feature names\n",
      "  warnings.warn(\n"
     ]
    }
   ],
   "source": [
    "# Function to predict disease based on symptoms\n",
    "def predict_disease(symptoms):\n",
    "    input_data = np.zeros(len(X.columns))  # Create zero vector for symptoms\n",
    "    for symptom in symptoms:\n",
    "        if symptom in X.columns:\n",
    "            input_data[X.columns.get_loc(symptom)] = 1  # Mark symptom as present\n",
    "\n",
    "    # Predict using trained model\n",
    "    prediction = model.predict([input_data])\n",
    "    return label_encoder.inverse_transform(prediction)[0]\n",
    "\n",
    "# Example usage\n",
    "symptoms_list = ['Fever', 'Cough', 'Fatigue']  # Example symptoms\n",
    "predicted_disease = predict_disease(symptoms_list)\n",
    "print(f'Predicted Disease: {predicted_disease}')"
   ]
  },
  {
   "cell_type": "code",
   "execution_count": null,
   "id": "4dbf574a-8d7a-4e51-b76c-2cc336066f67",
   "metadata": {},
   "outputs": [],
   "source": [
    "print(\"internship c"
   ]
  }
 ],
 "metadata": {
  "kernelspec": {
   "display_name": "Python 3 (ipykernel)",
   "language": "python",
   "name": "python3"
  },
  "language_info": {
   "codemirror_mode": {
    "name": "ipython",
    "version": 3
   },
   "file_extension": ".py",
   "mimetype": "text/x-python",
   "name": "python",
   "nbconvert_exporter": "python",
   "pygments_lexer": "ipython3",
   "version": "3.12.4"
  }
 },
 "nbformat": 4,
 "nbformat_minor": 5
}
